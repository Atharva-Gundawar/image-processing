{
 "cells": [
  {
   "cell_type": "code",
   "execution_count": 1,
   "metadata": {},
   "outputs": [],
   "source": [
    "import cv2\n",
    "import numpy as np\n",
    "import matplotlib.pyplot as plt"
   ]
  },
  {
   "cell_type": "code",
   "execution_count": 4,
   "metadata": {},
   "outputs": [
    {
     "name": "stdout",
     "output_type": "stream",
     "text": [
      "Enter the name person name getting clickedAtharva\n"
     ]
    },
    {
     "ename": "error",
     "evalue": "OpenCV(4.1.1) C:\\projects\\opencv-python\\opencv\\modules\\objdetect\\src\\cascadedetect.cpp:1689: error: (-215:Assertion failed) !empty() in function 'cv::CascadeClassifier::detectMultiScale'\n",
     "output_type": "error",
     "traceback": [
      "\u001b[1;31m---------------------------------------------------------------------------\u001b[0m",
      "\u001b[1;31merror\u001b[0m                                     Traceback (most recent call last)",
      "\u001b[1;32m<ipython-input-4-898287d4e54a>\u001b[0m in \u001b[0;36m<module>\u001b[1;34m\u001b[0m\n\u001b[0;32m     14\u001b[0m \u001b[1;33m\u001b[0m\u001b[0m\n\u001b[0;32m     15\u001b[0m     \u001b[1;31m# after every round of checks, scale 1.5 times\u001b[0m\u001b[1;33m\u001b[0m\u001b[1;33m\u001b[0m\u001b[1;33m\u001b[0m\u001b[0m\n\u001b[1;32m---> 16\u001b[1;33m     \u001b[0mfaces\u001b[0m \u001b[1;33m=\u001b[0m \u001b[0mdetector\u001b[0m\u001b[1;33m.\u001b[0m\u001b[0mdetectMultiScale\u001b[0m\u001b[1;33m(\u001b[0m\u001b[0mimg\u001b[0m\u001b[1;33m,\u001b[0m \u001b[1;36m1.5\u001b[0m\u001b[1;33m)\u001b[0m\u001b[1;33m\u001b[0m\u001b[1;33m\u001b[0m\u001b[0m\n\u001b[0m\u001b[0;32m     17\u001b[0m \u001b[1;33m\u001b[0m\u001b[0m\n\u001b[0;32m     18\u001b[0m     \u001b[1;32mif\u001b[0m\u001b[1;33m(\u001b[0m\u001b[0mlen\u001b[0m\u001b[1;33m(\u001b[0m\u001b[0mfaces\u001b[0m\u001b[1;33m)\u001b[0m\u001b[1;33m==\u001b[0m\u001b[1;36m0\u001b[0m\u001b[1;33m)\u001b[0m\u001b[1;33m:\u001b[0m\u001b[1;33m\u001b[0m\u001b[1;33m\u001b[0m\u001b[0m\n",
      "\u001b[1;31merror\u001b[0m: OpenCV(4.1.1) C:\\projects\\opencv-python\\opencv\\modules\\objdetect\\src\\cascadedetect.cpp:1689: error: (-215:Assertion failed) !empty() in function 'cv::CascadeClassifier::detectMultiScale'\n"
     ]
    }
   ],
   "source": [
    "detector = cv2.CascadeClassifier(\"Datasets/FaceCascade/templatedata.xml\")\n",
    "camera = cv2.VideoCapture(0)\n",
    "\n",
    "name = input(\"Enter the name person name getting clicked\")\n",
    "pics_clicked = 0\n",
    "cnt = 0\n",
    "pics = []\n",
    "\n",
    "\n",
    "while True:\n",
    "    b,img = camera.read()\n",
    "    if b==False:\n",
    "        continue\n",
    "    \n",
    "    # after every round of checks, scale 1.5 times\n",
    "    faces = detector.detectMultiScale(img, 1.5)\n",
    "\n",
    "    if(len(faces)==0):\n",
    "        continue\n",
    "        \n",
    "    #     assuming single face\n",
    "    f = faces[0]\n",
    "    x,y,w,h = f\n",
    "    green = (0,255,0)\n",
    "    cv2.rectangle(img, (x,y), (x+w,y+h), green, 5 )\n",
    "    #-------------------------------------------\n",
    "    #save the cropped photo\n",
    "    if cnt%10==0:\n",
    "        \n",
    "        crop_face = img[y:y+h,x:x+w]\n",
    "        small_face = cv2.resize(crop_face,(100,100))\n",
    "        pics.append(small_face)\n",
    "        pics_clicked += 1\n",
    "        print(\"Clicked Pics \", pics_clicked)\n",
    "        if pics_clicked == 20:\n",
    "            break\n",
    "        \n",
    "    cnt+=1\n",
    "    \n",
    "    #------------------------------------------\n",
    "    cv2.imshow(\"Image\", img)\n",
    "      \n",
    "    #     manage exit\n",
    "    key = cv2.waitKey(1)&0xFF\n",
    "    if key == ord('q'):\n",
    "        break\n",
    "        \n",
    "    cv2.waitKey(1)\n",
    "    \n",
    "camera.release()\n",
    "cv2.destroyAllWindows()"
   ]
  },
  {
   "cell_type": "code",
   "execution_count": 5,
   "metadata": {},
   "outputs": [],
   "source": [
    "camera.release()"
   ]
  }
 ],
 "metadata": {
  "kernelspec": {
   "display_name": "Python 3",
   "language": "python",
   "name": "python3"
  },
  "language_info": {
   "codemirror_mode": {
    "name": "ipython",
    "version": 3
   },
   "file_extension": ".py",
   "mimetype": "text/x-python",
   "name": "python",
   "nbconvert_exporter": "python",
   "pygments_lexer": "ipython3",
   "version": "3.7.4"
  }
 },
 "nbformat": 4,
 "nbformat_minor": 2
}
