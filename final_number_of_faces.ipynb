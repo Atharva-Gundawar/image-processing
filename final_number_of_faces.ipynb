{
 "cells": [
  {
   "cell_type": "code",
   "execution_count": 1,
   "metadata": {},
   "outputs": [],
   "source": [
    "import cv2\n",
    "import numpy as np\n",
    "import matplotlib.pyplot as plt"
   ]
  },
  {
   "cell_type": "code",
   "execution_count": 2,
   "metadata": {},
   "outputs": [
    {
     "name": "stdout",
     "output_type": "stream",
     "text": [
      "4\n"
     ]
    }
   ],
   "source": [
    "camera = cv2.VideoCapture(0)\n",
    "max= 0\n",
    "while True:\n",
    "    b,img = camera.read()\n",
    "    if b == False:\n",
    "        print(\"Some error\")\n",
    "        continue\n",
    "        \n",
    "    orignal=img\n",
    "    \n",
    "    detector = cv2.CascadeClassifier('Datasets/FaceCascade/templatedata.xml')\n",
    "    faces = detector.detectMultiScale(img,1.05)\n",
    "    \n",
    "    \n",
    "#    print(len(faces))\n",
    "    if len(faces)>max:\n",
    "        max = len(faces)\n",
    "    if len(faces)==0:\n",
    "        cv2.imshow(\"image\",orignal)\n",
    "    else:    \n",
    "        for f in faces:\n",
    "            x,y,w,h = f\n",
    "            green = (0,255,0)\n",
    "\n",
    "            cv2.rectangle(img,(x,y),(x+w,y+h),green,5)\n",
    "\n",
    "            cv2.imshow(\"image\",img)\n",
    "\n",
    "    k = cv2.waitKey(1) & 0xFF\n",
    "    if k == ord('q'): \n",
    "        break\n",
    "print(max)    \n",
    "    \n",
    "cv2.destroyAllWindows() \n",
    "camera.release()    "
   ]
  },
  {
   "cell_type": "code",
   "execution_count": 13,
   "metadata": {},
   "outputs": [],
   "source": [
    "camera.release()    "
   ]
  },
  {
   "cell_type": "code",
   "execution_count": null,
   "metadata": {},
   "outputs": [],
   "source": []
  }
 ],
 "metadata": {
  "kernelspec": {
   "display_name": "Python 3",
   "language": "python",
   "name": "python3"
  },
  "language_info": {
   "codemirror_mode": {
    "name": "ipython",
    "version": 3
   },
   "file_extension": ".py",
   "mimetype": "text/x-python",
   "name": "python",
   "nbconvert_exporter": "python",
   "pygments_lexer": "ipython3",
   "version": "3.7.4"
  }
 },
 "nbformat": 4,
 "nbformat_minor": 2
}
