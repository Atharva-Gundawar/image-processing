{
 "cells": [
  {
   "cell_type": "code",
   "execution_count": 2,
   "metadata": {},
   "outputs": [],
   "source": [
    "import cv2 \n",
    "import numpy as np  \n",
    "cap = cv2.VideoCapture(0) \n",
    "while(1):\n",
    "\t_, frame = cap.read() \n",
    "\thsv = cv2.cvtColor(frame, cv2.COLOR_BGR2HSV) \n",
    "\tlower_red = np.array([110,50,50]) \n",
    "\tupper_red = np.array([130,255,255]) \n",
    "\tmask = cv2.inRange(hsv, lower_red, upper_red)  \n",
    "\tres = cv2.bitwise_and(frame,frame, mask= mask) \n",
    "\tcv2.imshow('frame',frame) \n",
    "\tcv2.imshow('mask',mask) \n",
    "\tcv2.imshow('res',res) \n",
    "\tk = cv2.waitKey(5) & 0xFF\n",
    "\tif k == 27: \n",
    "\t\tbreak\n",
    "cv2.destroyAllWindows() \n",
    "cap.release() \n"
   ]
  },
  {
   "cell_type": "code",
   "execution_count": null,
   "metadata": {},
   "outputs": [],
   "source": [
    "    res = cv2.bitwise_and(frame,frame, mask= mask) \n",
    "    cv2.imshow('frame',frame) \n",
    "    cv2.imshow('mask',mask) \n",
    "    cv2.imshow('res',res) "
   ]
  },
  {
   "cell_type": "code",
   "execution_count": 8,
   "metadata": {},
   "outputs": [
    {
     "ename": "IndentationError",
     "evalue": "unindent does not match any outer indentation level (<tokenize>, line 30)",
     "output_type": "error",
     "traceback": [
      "\u001b[1;36m  File \u001b[1;32m\"<tokenize>\"\u001b[1;36m, line \u001b[1;32m30\u001b[0m\n\u001b[1;33m    mask = cv2.inRange(frame, lower_red, upper_red)\u001b[0m\n\u001b[1;37m    ^\u001b[0m\n\u001b[1;31mIndentationError\u001b[0m\u001b[1;31m:\u001b[0m unindent does not match any outer indentation level\n"
     ]
    }
   ],
   "source": [
    "# OpenCV program to perform Edge detection in real time \n",
    "# import libraries of python OpenCV \n",
    "# where its functionality resides \n",
    "import cv2 \n",
    "\n",
    "# np is an alias pointing to numpy library \n",
    "import numpy as np \n",
    "\n",
    "\n",
    "# capture frames from a camera \n",
    "cap = cv2.VideoCapture(0) \n",
    "\n",
    "\n",
    "# loop runs if capturing has been initialized \n",
    "while(1): \n",
    "\n",
    "\t# reads frames from a camera \n",
    "\tret, frame = cap.read() \n",
    "\n",
    "\t# converting BGR to HSV \n",
    "\thsv = cv2.cvtColor(frame, cv2.COLOR_BGR2HSV) \n",
    "\t\n",
    "\t# define range of red color in HSV \n",
    "\tlower_red = np.array([200,200,200]) \n",
    "\tupper_red = np.array([255,255,180]) \n",
    "\t\n",
    "\t# create a red HSV colour boundary and \n",
    "\t# threshold HSV image \n",
    "\tmask = cv2.inRange(hsv, lower_red, upper_red) \n",
    "    mask = cv2.inRange(frame, lower_red, upper_red)\n",
    "\n",
    "\t# Bitwise-AND mask and original image \n",
    "\tres = cv2.bitwise_and(frame,frame, mask= mask) \n",
    "\n",
    "\t# Display an original image \n",
    "\tcv2.imshow('Original',frame) \n",
    "\n",
    "\t# finds edges in the input image image and \n",
    "\t# marks them in the output map edges \n",
    "\tedges = cv2.Canny(frame,100,200) \n",
    "\n",
    "\t# Display edges in a frame \n",
    "\tcv2.imshow('mask',mask) \n",
    "\n",
    "\t# Wait for Esc key to stop \n",
    "\tk = cv2.waitKey(5) & 0xFF\n",
    "\tif k == 27: \n",
    "\t\tbreak\n",
    "\n",
    "\n",
    "# Close the window \n",
    "cap.release() \n",
    "\n",
    "# De-allocate any associated memory usage \n",
    "cv2.destroyAllWindows() \n"
   ]
  },
  {
   "cell_type": "code",
   "execution_count": null,
   "metadata": {},
   "outputs": [],
   "source": []
  }
 ],
 "metadata": {
  "kernelspec": {
   "display_name": "Python 3",
   "language": "python",
   "name": "python3"
  },
  "language_info": {
   "codemirror_mode": {
    "name": "ipython",
    "version": 3
   },
   "file_extension": ".py",
   "mimetype": "text/x-python",
   "name": "python",
   "nbconvert_exporter": "python",
   "pygments_lexer": "ipython3",
   "version": "3.7.4"
  }
 },
 "nbformat": 4,
 "nbformat_minor": 2
}
