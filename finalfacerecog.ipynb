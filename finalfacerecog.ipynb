{
 "cells": [
  {
   "cell_type": "code",
   "execution_count": 1,
   "metadata": {},
   "outputs": [],
   "source": [
    "import cv2\n",
    "import numpy as np\n",
    "import matplotlib.pyplot as plt\n",
    "import os"
   ]
  },
  {
   "cell_type": "code",
   "execution_count": 2,
   "metadata": {},
   "outputs": [
    {
     "name": "stdout",
     "output_type": "stream",
     "text": [
      "(20, 100, 100, 3) Atharva.npy\n",
      "(20, 100, 100, 3) yash.npy\n"
     ]
    }
   ],
   "source": [
    "X = []\n",
    "Y = []\n",
    "cnt = 0\n",
    "d= {}\n",
    "lables = 1\n",
    "for f in os.listdir():\n",
    "    if f.endswith(\".npy\"):\n",
    "        imgs =np.load(f)\n",
    "        print(imgs.shape,f)\n",
    "        X.append(imgs)\n",
    "        labels = np.ones((imgs.shape[0]))*cnt\n",
    "        Y.append(labels)\n",
    "        \n",
    "        d[cnt] = f[:-4]\n",
    "        cnt += 1"
   ]
  },
  {
   "cell_type": "code",
   "execution_count": 3,
   "metadata": {},
   "outputs": [
    {
     "name": "stdout",
     "output_type": "stream",
     "text": [
      "(40, 100, 100, 3) (40,)\n",
      "{0: 'Atharva', 1: 'yash'}\n",
      "[0. 0. 0. 0. 0. 0. 0. 0. 0. 0. 0. 0. 0. 0. 0. 0. 0. 0. 0. 0. 1. 1. 1. 1.\n",
      " 1. 1. 1. 1. 1. 1. 1. 1. 1. 1. 1. 1. 1. 1. 1. 1.]\n"
     ]
    }
   ],
   "source": [
    "X = np.array(X)\n",
    "Y = np.array(Y)\n",
    "\n",
    "X =X.reshape((40,100,100,3))\n",
    "Y=Y.reshape((40,))\n",
    "print(X.shape,Y.shape)\n",
    "print(d)\n",
    "print(Y)\n"
   ]
  },
  {
   "cell_type": "code",
   "execution_count": 4,
   "metadata": {},
   "outputs": [],
   "source": [
    "def distance(p1,p2):\n",
    "    return np.sum((p1-p2)**2)**.5"
   ]
  },
  {
   "cell_type": "code",
   "execution_count": 5,
   "metadata": {},
   "outputs": [],
   "source": [
    "def KNN(x,y,test_point,k=5):\n",
    "    d = []\n",
    "    m = x.shape[0]  #number of points\n",
    "#1> find distnace of test point from all points \n",
    "    for i in range (m):\n",
    "        current_dist = distance(test_point,x[i])#finding the dist\n",
    "        d.append((current_dist,y[i]))#updating the color \n",
    "        \n",
    "#2>sort\n",
    "\n",
    "    d = sorted(d)\n",
    "    \n",
    "#3>pick first 5 points\n",
    "\n",
    "    d=d[:k]\n",
    "#4> Create numpy array    \n",
    "    d = np.array(d)\n",
    "    \n",
    "    d=d[:,1]\n",
    "#5> find out unique classes and counts    \n",
    "    uniq,cnts = np.unique(d,return_counts=True)\n",
    "    idx = np.argmax(cnts)\n",
    "    pred = uniq[idx]\n",
    "    return int(pred)\n",
    "    \n",
    "#    print(d)\n",
    "    "
   ]
  },
  {
   "cell_type": "code",
   "execution_count": 6,
   "metadata": {},
   "outputs": [],
   "source": [
    "detector = cv2.CascadeClassifier(\"ml-vit-vellore-2019-master/Datasets/FaceCascade/templatedata.xml\")\n",
    "camera = cv2.VideoCapture(0)"
   ]
  },
  {
   "cell_type": "code",
   "execution_count": 10,
   "metadata": {},
   "outputs": [
    {
     "ename": "KeyboardInterrupt",
     "evalue": "",
     "output_type": "error",
     "traceback": [
      "\u001b[1;31m---------------------------------------------------------------------------\u001b[0m",
      "\u001b[1;31mKeyboardInterrupt\u001b[0m                         Traceback (most recent call last)",
      "\u001b[1;32m<ipython-input-10-a6b0b3f830fe>\u001b[0m in \u001b[0;36m<module>\u001b[1;34m\u001b[0m\n\u001b[0;32m      1\u001b[0m \u001b[1;32mwhile\u001b[0m \u001b[1;32mTrue\u001b[0m\u001b[1;33m:\u001b[0m\u001b[1;33m\u001b[0m\u001b[1;33m\u001b[0m\u001b[0m\n\u001b[1;32m----> 2\u001b[1;33m     \u001b[0mb\u001b[0m\u001b[1;33m,\u001b[0m\u001b[0mimg\u001b[0m \u001b[1;33m=\u001b[0m \u001b[0mcamera\u001b[0m\u001b[1;33m.\u001b[0m\u001b[0mread\u001b[0m\u001b[1;33m(\u001b[0m\u001b[1;33m)\u001b[0m\u001b[1;33m\u001b[0m\u001b[1;33m\u001b[0m\u001b[0m\n\u001b[0m\u001b[0;32m      3\u001b[0m     \u001b[1;32mif\u001b[0m \u001b[0mb\u001b[0m\u001b[1;33m==\u001b[0m\u001b[1;32mFalse\u001b[0m\u001b[1;33m:\u001b[0m\u001b[1;33m\u001b[0m\u001b[1;33m\u001b[0m\u001b[0m\n\u001b[0;32m      4\u001b[0m         \u001b[1;32mcontinue\u001b[0m\u001b[1;33m\u001b[0m\u001b[1;33m\u001b[0m\u001b[0m\n\u001b[0;32m      5\u001b[0m \u001b[1;33m\u001b[0m\u001b[0m\n",
      "\u001b[1;31mKeyboardInterrupt\u001b[0m: "
     ]
    }
   ],
   "source": [
    "while True:\n",
    "    b,img = camera.read()\n",
    "    if b==False:\n",
    "        continue\n",
    "    \n",
    "    # after every round of checks, scale 1.5 times\n",
    "    faces = detector.detectMultiScale(img, 1.5)\n",
    "\n",
    "    if(len(faces)==0):\n",
    "        continue\n",
    "        \n",
    "    for f in faces:\n",
    "        \n",
    "        f = faces[0]\n",
    "        x,y,w,h = f\n",
    "        green = (0,255,0)\n",
    "        cv2.rectangle(img, (x,y), (x+w,y+h), green, 5 )    \n",
    "        crop_face = img[y:y+h,x:x+w]\n",
    "        small_face = cv2.resize(crop_face,(100,100))\n",
    "        \n",
    "        #MAKING PREDICTIONS\n",
    "        predicted_name = d[KNN(X,Y,small_face)]\n",
    "         \n",
    "        cv2.putText(img,predicted_name,(x, y-20),cv2.FONT_HERSHEY_SIMPLEX, 1.0,(255,255,255))\n",
    "        \n",
    "        \n",
    "    cv2.imshow(\"Image\", img)\n",
    "      \n",
    "    #     manage exit\n",
    "    key = cv2.waitKey(1)&0xFF\n",
    "    if key == ord('q'):\n",
    "        break\n",
    "        \n",
    "    cv2.waitKey(1)\n",
    "    \n",
    "camera.release()\n",
    "cv2.destroyAllWindows()"
   ]
  },
  {
   "cell_type": "code",
   "execution_count": 8,
   "metadata": {},
   "outputs": [],
   "source": [
    "camera.release()"
   ]
  },
  {
   "cell_type": "code",
   "execution_count": null,
   "metadata": {},
   "outputs": [],
   "source": []
  }
 ],
 "metadata": {
  "kernelspec": {
   "display_name": "Python 3",
   "language": "python",
   "name": "python3"
  },
  "language_info": {
   "codemirror_mode": {
    "name": "ipython",
    "version": 3
   },
   "file_extension": ".py",
   "mimetype": "text/x-python",
   "name": "python",
   "nbconvert_exporter": "python",
   "pygments_lexer": "ipython3",
   "version": "3.7.4"
  }
 },
 "nbformat": 4,
 "nbformat_minor": 2
}
