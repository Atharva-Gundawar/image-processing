{
 "cells": [
  {
   "cell_type": "code",
   "execution_count": 8,
   "metadata": {},
   "outputs": [],
   "source": [
    "import numpy as np\n",
    "import matplotlib.pyplot as plt\n"
   ]
  },
  {
   "cell_type": "code",
   "execution_count": 3,
   "metadata": {},
   "outputs": [
    {
     "name": "stdout",
     "output_type": "stream",
     "text": [
      "[[11.563957    1.3389402 ]\n",
      " [10.06721983  4.08616331]\n",
      " [ 8.77253877  2.33030515]\n",
      " [10.12748869  5.32277484]\n",
      " [ 9.06439343  1.74115688]\n",
      " [ 7.88506245  1.50083021]\n",
      " [ 9.38860303 -1.41342865]\n",
      " [ 9.67284681 -0.20283165]\n",
      " [11.42846765  1.85948594]\n",
      " [ 8.24628674  3.12802959]\n",
      " [ 8.2434749   0.41644891]\n",
      " [ 7.77072231  3.86243349]\n",
      " [10.06393839  0.99078055]\n",
      " [10.50478434  1.18730514]\n",
      " [ 9.05251038  5.19142425]\n",
      " [ 8.69289001  1.54322016]\n",
      " [ 9.76566918  1.27689813]\n",
      " [ 9.86174537  6.02871838]\n",
      " [ 9.37370771  4.94611021]\n",
      " [ 8.7337095   2.49162431]\n",
      " [ 9.40806778  0.21238028]\n",
      " [ 8.18378052  1.29564214]\n",
      " [ 8.77572148 -0.59828407]\n",
      " [11.0329545  -0.16816717]\n",
      " [ 9.37814427  0.98057303]\n",
      " [10.85496409  5.85225779]\n",
      " [ 8.81982906  3.92571768]\n",
      " [ 9.38919979  1.13329119]\n",
      " [ 9.50048972 -0.26430318]\n",
      " [ 9.63773799 -0.01713182]\n",
      " [10.49459357  3.88766956]\n",
      " [11.48586652  4.72216659]\n",
      " [ 9.49232241  3.81547073]\n",
      " [ 8.68937095  1.48709629]\n",
      " [ 8.39622818  1.22550966]\n",
      " [ 9.48375428  3.96014003]\n",
      " [10.6124154   0.29700045]\n",
      " [ 9.53495097  4.0557957 ]\n",
      " [10.58206053  4.47715319]\n",
      " [ 8.19679821  1.45456477]\n",
      " [ 9.30844046  4.80439317]\n",
      " [ 8.56185686  1.1240557 ]\n",
      " [10.06842783  4.16975128]\n",
      " [10.27524684  0.59854311]\n",
      " [11.07092841  4.36429207]\n",
      " [ 9.95926647  0.85665806]\n",
      " [ 8.84477826  0.77318037]\n",
      " [ 8.35760513  0.99907772]\n",
      " [ 8.94530697  5.30230187]\n",
      " [ 8.98102438  4.39258782]\n",
      " [ 9.33427576  3.25149617]\n",
      " [ 9.54991027  0.57020007]\n",
      " [10.46524894  4.08771906]\n",
      " [ 6.96082151  0.33696129]\n",
      " [10.07884389  1.59539821]\n",
      " [11.03256145  4.0891382 ]\n",
      " [ 8.77678625  3.17120528]\n",
      " [ 7.95783483  3.60092296]\n",
      " [11.81718094  1.29698838]\n",
      " [10.29529538  1.46789265]\n",
      " [11.65725122  5.3739542 ]\n",
      " [ 9.10423924  3.06318305]\n",
      " [ 9.67593895  5.34992028]\n",
      " [ 8.60073592  3.19174526]\n",
      " [10.83465533  2.3245668 ]\n",
      " [ 8.03745967  5.17621887]\n",
      " [ 9.1625914   3.40534414]\n",
      " [ 9.1438515   1.78117369]\n",
      " [ 8.43515864  1.37491631]\n",
      " [ 8.92229526 -0.63993225]\n",
      " [ 9.75658923  5.14670674]\n",
      " [10.82828043  3.84527696]\n",
      " [10.17196159  4.81287951]\n",
      " [10.72051688  0.89008628]\n",
      " [ 9.20989214  1.7467316 ]\n",
      " [10.21143856  0.76943446]\n",
      " [ 9.49906632  2.934728  ]\n",
      " [ 7.99313649  0.93528488]\n",
      " [ 9.56860938  4.50869016]\n",
      " [ 9.19237516  5.17306236]\n",
      " [ 9.17044091  4.34579642]\n",
      " [ 9.2825722   4.48060463]\n",
      " [ 8.86330381  2.94628015]\n",
      " [ 8.26530669  2.96705005]\n",
      " [10.13583073  0.96373495]\n",
      " [ 9.03763281  2.14664757]\n",
      " [ 8.97080851  3.31090141]\n",
      " [10.12719906 -0.89623088]\n",
      " [10.98547806  3.70271807]\n",
      " [ 9.81432518  2.78141557]\n",
      " [ 9.20148969  3.01423705]\n",
      " [11.56942304  4.0550612 ]\n",
      " [ 8.526605    4.64006132]\n",
      " [10.97634432 -0.41632061]\n",
      " [ 8.99014223  3.96486732]\n",
      " [ 8.34468785  1.63824349]\n",
      " [ 8.23501274  1.78248134]\n",
      " [10.21779286  3.96675333]\n",
      " [ 9.50886477  2.856055  ]\n",
      " [ 9.85037563  1.24509053]] [0 1 1 1 0 0 0 0 0 1 0 1 0 0 1 0 0 1 1 0 0 0 0 0 0 1 1 0 0 0 1 1 1 0 0 1 0\n",
      " 1 1 0 1 0 1 0 1 0 0 0 1 1 1 0 1 0 0 1 1 1 0 0 1 1 1 1 1 1 1 0 0 0 1 1 1 0\n",
      " 0 0 0 0 1 1 1 1 1 0 0 0 1 0 1 1 1 1 1 0 1 0 0 1 1 0]\n",
      "(100, 2) (100,)\n"
     ]
    }
   ],
   "source": [
    "#start by loading data\n",
    "\n",
    "x = np.load('Datasets/data/x.npy')\n",
    "y = np.load('Datasets/data/y.npy')\n",
    "print(x,y)\n",
    "print(x.shape,y.shape)"
   ]
  },
  {
   "cell_type": "code",
   "execution_count": null,
   "metadata": {},
   "outputs": [],
   "source": []
  },
  {
   "cell_type": "code",
   "execution_count": 9,
   "metadata": {},
   "outputs": [
    {
     "name": "stdout",
     "output_type": "stream",
     "text": [
      "[0 1 1 1 0 0 0 0 0 1 0 1 0 0 1 0 0 1 1 0 0 0 0 0 0 1 1 0 0 0 1 1 1 0 0 1 0\n",
      " 1 1 0 1 0 1 0 1 0 0 0 1 1 1 0 1 0 0 1 1 1 0 0 1 1 1 1 1 1 1 0 0 0 1 1 1 0\n",
      " 0 0 0 0 1 1 1 1 1 0 0 0 1 0 1 1 1 1 1 0 1 0 0 1 1 0]\n"
     ]
    }
   ],
   "source": [
    "print(y)"
   ]
  },
  {
   "cell_type": "code",
   "execution_count": 97,
   "metadata": {},
   "outputs": [
    {
     "data": {
      "image/png": "[encoded data removed]",
      "text/plain": [
       "<Figure size 432x288 with 1 Axes>"
      ]
     },
     "metadata": {
      "needs_background": "light"
     },
     "output_type": "display_data"
    }
   ],
   "source": [
    "#to visualize all points ,,, c=y catogarizes and gives color accordingly\n",
    "test_point=np.array((10,-1))\n",
    "plt.scatter(test_point[0],test_point[1],color='red')\n",
    "plt.scatter(x[:,0],x[:,1],c=y,cmap=plt.cm.Accent)\n",
    "plt.show()"
   ]
  },
  {
   "cell_type": "code",
   "execution_count": 98,
   "metadata": {},
   "outputs": [],
   "source": [
    "#def distance(p1,p2):\n",
    "#    x1,y1=p1\n",
    "#    x2,y2=p2\n",
    "#    \n",
    "#    distx=(x2-x1)**2\n",
    "#    disty=(y2-y1)**2\n",
    "#    \n",
    "#    dist =((distx)+(disty))**(1/2)\n",
    "#    \n",
    "#    return dist"
   ]
  },
  {
   "cell_type": "code",
   "execution_count": 99,
   "metadata": {},
   "outputs": [],
   "source": [
    "def distance(p1,p2):\n",
    "    return np.sum((p1-p2)**2)**.5\n",
    "#for calculating distance between two points\n",
    "\n",
    "\n",
    "mapping ={\n",
    "    \n",
    "    0 : \"green\",\n",
    "    1 : \"blue\"\n",
    "}"
   ]
  },
  {
   "cell_type": "code",
   "execution_count": 101,
   "metadata": {},
   "outputs": [
    {
     "data": {
      "text/plain": [
       "'green'"
      ]
     },
     "execution_count": 101,
     "metadata": {},
     "output_type": "execute_result"
    }
   ],
   "source": [
    "def KNN(x,y,test_point,k=5):\n",
    "    d = []\n",
    "    m = x.shape[0]  #number of points\n",
    "#1> find distnace of test point from all points \n",
    "    for i in range (m):\n",
    "        current_dist = distance(test_point,x[i])#finding the dist\n",
    "        d.append((current_dist,y[i]))#updating the color \n",
    "        \n",
    "#2>sort\n",
    "\n",
    "    d = sorted(d)\n",
    "    \n",
    "#3>pick first 5 points\n",
    "\n",
    "    d=d[:k]\n",
    "#4> Create numpy array    \n",
    "    d = np.array(d)\n",
    "    \n",
    "    d=d[:,1]\n",
    "#5> find out unique classes and counts    \n",
    "    uniq,cnts = np.unique(d,return_counts=True)\n",
    "    idx = np.argmax(cnts)\n",
    "    pred = uniq[idx]\n",
    "    return mapping[int(pred)]\n",
    "    \n",
    "#    print(d)\n",
    "    \n",
    "KNN(x,y,test_point)"
   ]
  },
  {
   "cell_type": "code",
   "execution_count": 102,
   "metadata": {},
   "outputs": [],
   "source": [
    "#digit Classifications \n",
    "\n",
    "import pandas as pd"
   ]
  },
  {
   "cell_type": "code",
   "execution_count": null,
   "metadata": {},
   "outputs": [],
   "source": []
  }
 ],
 "metadata": {
  "kernelspec": {
   "display_name": "Python 3",
   "language": "python",
   "name": "python3"
  },
  "language_info": {
   "codemirror_mode": {
    "name": "ipython",
    "version": 3
   },
   "file_extension": ".py",
   "mimetype": "text/x-python",
   "name": "python",
   "nbconvert_exporter": "python",
   "pygments_lexer": "ipython3",
   "version": "3.7.4"
  }
 },
 "nbformat": 4,
 "nbformat_minor": 2
}
